{
 "cells": [
  {
   "cell_type": "markdown",
   "id": "9cb6d7f7",
   "metadata": {},
   "source": [
    "### Loading libraries"
   ]
  },
  {
   "cell_type": "code",
   "execution_count": 1,
   "id": "704433cd",
   "metadata": {
    "ExecuteTime": {
     "end_time": "2025-07-15T00:21:31.478383Z",
     "start_time": "2025-07-15T00:21:24.578Z"
    },
    "scrolled": true
   },
   "outputs": [
    {
     "name": "stderr",
     "output_type": "stream",
     "text": [
      "Loading required package: permute\n",
      "\n",
      "Loading required package: lattice\n",
      "\n",
      "This is vegan 2.6-4\n",
      "\n",
      "\n",
      "Attaching package: ‘ggpubr’\n",
      "\n",
      "\n",
      "The following object is masked from ‘package:ape’:\n",
      "\n",
      "    rotate\n",
      "\n",
      "\n"
     ]
    }
   ],
   "source": [
    "library(vegan)\n",
    "library(phyloseq)\n",
    "library(ranacapa)\n",
    "library(ape)\n",
    "library(ggplot2)\n",
    "library(ggpubr)\n",
    "library(reshape2)\n",
    "library(ggnewscale)"
   ]
  },
  {
   "cell_type": "code",
   "execution_count": 2,
   "id": "9b935ec7",
   "metadata": {
    "ExecuteTime": {
     "end_time": "2025-07-15T00:21:32.635147Z",
     "start_time": "2025-07-15T00:21:32.438Z"
    }
   },
   "outputs": [],
   "source": [
    "dir.create(file.path('../../results/figures'), showWarnings = FALSE)\n",
    "dir.create(file.path('../../results/figures', 'figure3'), showWarnings = FALSE)\n",
    "dir.create(file.path('../../results/figures', 'supplementary_figure2'), showWarnings = FALSE)"
   ]
  },
  {
   "cell_type": "markdown",
   "id": "3a44c452",
   "metadata": {},
   "source": [
    "### Loading data"
   ]
  },
  {
   "cell_type": "code",
   "execution_count": 3,
   "id": "57a0ad11",
   "metadata": {
    "ExecuteTime": {
     "end_time": "2025-07-15T00:21:34.308289Z",
     "start_time": "2025-07-15T00:21:33.483Z"
    }
   },
   "outputs": [
    {
     "data": {
      "text/plain": [
       "phyloseq-class experiment-level object\n",
       "otu_table()   OTU Table:         [ 17022 taxa and 199 samples ]\n",
       "sample_data() Sample Data:       [ 199 samples by 57 sample variables ]\n",
       "tax_table()   Taxonomy Table:    [ 17022 taxa by 7 taxonomic ranks ]"
      ]
     },
     "metadata": {},
     "output_type": "display_data"
    }
   ],
   "source": [
    "# load phyloseq object\n",
    "ps <- readRDS('../../data/phyloseq/nohost_asv/phyloseq.rds')\n",
    "ps"
   ]
  },
  {
   "cell_type": "code",
   "execution_count": 4,
   "id": "3136bdca",
   "metadata": {
    "ExecuteTime": {
     "end_time": "2025-07-15T00:21:41.626399Z",
     "start_time": "2025-07-15T00:21:35.166Z"
    }
   },
   "outputs": [
    {
     "name": "stderr",
     "output_type": "stream",
     "text": [
      "You set `rngseed` to FALSE. Make sure you've set & recorded\n",
      " the random seed of your session for reproducibility.\n",
      "See `?set.seed`\n",
      "\n",
      "\n",
      "...\n",
      "\n",
      "3 samples removedbecause they contained fewer reads than `sample.size`.\n",
      "\n",
      "Up to first five removed samples are: \n",
      "\n",
      "\n",
      "sample_044sample_063sample_168\n",
      "\n",
      "...\n",
      "\n",
      "2379OTUs were removed because they are no longer \n",
      "present in any sample after random subsampling\n",
      "\n",
      "\n",
      "...\n",
      "\n"
     ]
    },
    {
     "data": {
      "text/plain": [
       "phyloseq-class experiment-level object\n",
       "otu_table()   OTU Table:         [ 14643 taxa and 196 samples ]\n",
       "sample_data() Sample Data:       [ 196 samples by 57 sample variables ]\n",
       "tax_table()   Taxonomy Table:    [ 14643 taxa by 7 taxonomic ranks ]"
      ]
     },
     "metadata": {},
     "output_type": "display_data"
    }
   ],
   "source": [
    "set.seed(295) # setting seed to replicate the randomized rarefraction\n",
    "# rarefy phyloseq object\n",
    "ps_rarefied <- rarefy_even_depth(ps, 1e+05)\n",
    "ps_rarefied"
   ]
  },
  {
   "cell_type": "code",
   "execution_count": 5,
   "id": "c5590750",
   "metadata": {
    "ExecuteTime": {
     "end_time": "2025-07-15T00:21:42.407364Z",
     "start_time": "2025-07-15T00:21:42.160Z"
    }
   },
   "outputs": [],
   "source": [
    "# create an ASV name containing family, genus, and species levels\n",
    "tax_data <- data.frame(tax_table(ps_rarefied))\n",
    "tax_data$name <- apply(tax_data, 1, function(x){paste(x[c('Family', 'Genus', 'Species')], collapse=';')})"
   ]
  },
  {
   "cell_type": "markdown",
   "id": "52615b23",
   "metadata": {},
   "source": [
    "### Identify ASV presence odds for group of samples with STH Negative status at the baseline"
   ]
  },
  {
   "cell_type": "code",
   "execution_count": 7,
   "id": "e1195919",
   "metadata": {
    "ExecuteTime": {
     "end_time": "2025-07-15T00:22:10.618924Z",
     "start_time": "2025-07-15T00:22:10.334Z"
    }
   },
   "outputs": [
    {
     "data": {
      "text/html": [
       "TRUE"
      ],
      "text/latex": [
       "TRUE"
      ],
      "text/markdown": [
       "TRUE"
      ],
      "text/plain": [
       "[1] TRUE"
      ]
     },
     "metadata": {},
     "output_type": "display_data"
    }
   ],
   "source": [
    "# find ids of people who participated in the follow-up study and had a negative STH status at the baseline\n",
    "onlydewormed_ids <- sample_data(ps_rarefied)[(sample_data(ps_rarefied)[['collection_timepoint']] == 'follow-up')&(sample_data(ps_rarefied)[['subject_eggcountAnySTHs_baseline']] == 0),]$host_subject_id\n",
    "# select only samples from subjects participated in the follow-up study\n",
    "ps_STHNegative <- subset_samples(ps_rarefied, host_subject_id %in% onlydewormed_ids)\n",
    "ps_rarefied_onlywithdewormed <- ps_STHNegative\n",
    "# check if the size of the table matches to our expectation\n",
    "length(onlydewormed_ids)*2 == nsamples(ps_rarefied_onlywithdewormed)"
   ]
  },
  {
   "cell_type": "code",
   "execution_count": 8,
   "id": "848b5c30",
   "metadata": {
    "ExecuteTime": {
     "end_time": "2025-07-15T00:22:12.003904Z",
     "start_time": "2025-07-15T00:22:11.675Z"
    }
   },
   "outputs": [],
   "source": [
    "# select only samples from the baseline study\n",
    "ps_rarefied_onlywithdewormed_baseline <- subset_samples(ps_rarefied_onlywithdewormed, \n",
    "                                                       collection_timepoint == 'baseline')\n",
    "# retrieve ASV counts table\n",
    "otu_data_baseline <- otu_table(ps_rarefied_onlywithdewormed_baseline)\n",
    "# transform the counts table to a binary table: assign 1 to all counts larger than zero\n",
    "otu_data_baseline[otu_data_baseline > 0] <- 1\n",
    "# add two dummy rows with all taxa present (a row of 1s) and all taxa absent (a row of 0s)\n",
    "otu_data_baseline <- rbind(otu_data_baseline, \n",
    "                           t(data.frame(sample_present=rep(1, dim(otu_data_baseline)[2]), \n",
    "                           sample_absent=rep(0, dim(otu_data_baseline)[2]))))"
   ]
  },
  {
   "cell_type": "code",
   "execution_count": 9,
   "id": "294adbf4",
   "metadata": {
    "ExecuteTime": {
     "end_time": "2025-07-15T00:22:13.516134Z",
     "start_time": "2025-07-15T00:22:13.330Z"
    }
   },
   "outputs": [],
   "source": [
    "# select only samples from the follow-up study\n",
    "ps_rarefied_onlywithdewormed_followup <- subset_samples(ps_rarefied_onlywithdewormed, \n",
    "                                                       collection_timepoint == 'follow-up')\n",
    "# retrieve ASV counts table\n",
    "otu_data_followup <- otu_table(ps_rarefied_onlywithdewormed_followup)\n",
    "# transform the counts table to a binary table: assign 1 to all counts larger than zero\n",
    "otu_data_followup[otu_data_followup > 0] <- 1\n",
    "# add two dummy rows with all taxa present (a row of 1s) and all taxa absent (a row of 0s)\n",
    "otu_data_followup <- rbind(otu_data_followup, \n",
    " t(data.frame(sample_present=rep(1, dim(otu_data_followup)[2]), \n",
    "              sample_absent=rep(0, dim(otu_data_followup)[2]))))"
   ]
  },
  {
   "cell_type": "code",
   "execution_count": 10,
   "id": "459cf053",
   "metadata": {
    "ExecuteTime": {
     "end_time": "2025-07-15T00:22:23.935664Z",
     "start_time": "2025-07-15T00:22:14.552Z"
    }
   },
   "outputs": [],
   "source": [
    "# count ASV odds of being present\n",
    "genera <- colnames(otu_data_followup) # retrieve all ASV\n",
    "odds_STHNegative <- lapply(genera, function(taxa){        # for each ASV\n",
    "    # create a prescence/absence table\n",
    "    counts_df <-  rbind(table(otu_data_baseline[, taxa]), # count presence/absence of the given ASV in a baseline cohort\n",
    "                        table(otu_data_followup[, taxa])) # count presence/absence of the given ASV in a follow-up cohort\n",
    "    counts_df <- counts_df-1 # distract the counts of dummy variables\n",
    "    if (counts_df[1, 2]+counts_df[2, 2] > 3) { # do not consider low represented ASVs \n",
    "                                               # (ASVs present in a total of 3 or less samples)\n",
    "        # return a table with the information about ASV, odds of presence and amounts of prescence in each group\n",
    "        return(data.frame(genera=taxa, \n",
    "                          odds=counts_df[1, 2]/counts_df[2, 2], \n",
    "                          values=paste(counts_df[1, 2], counts_df[2, 2], collapse=';')))\n",
    "    }\n",
    "})\n",
    "odds_STHNegative <- do.call('rbind', odds_STHNegative) # concatenate rows\n",
    "odds_STHNegative$genera_name <- tax_data[odds_STHNegative$genera, 'name'] # join ASV names (family, genus, species)"
   ]
  },
  {
   "cell_type": "markdown",
   "id": "453ce927",
   "metadata": {},
   "source": [
    "### Identify ASV presence odds for group of samples with STH Positive status at the baseline"
   ]
  },
  {
   "cell_type": "code",
   "execution_count": 11,
   "id": "f856d749",
   "metadata": {
    "ExecuteTime": {
     "end_time": "2025-07-15T00:22:25.640515Z",
     "start_time": "2025-07-15T00:22:25.122Z"
    }
   },
   "outputs": [
    {
     "data": {
      "text/html": [
       "TRUE"
      ],
      "text/latex": [
       "TRUE"
      ],
      "text/markdown": [
       "TRUE"
      ],
      "text/plain": [
       "[1] TRUE"
      ]
     },
     "metadata": {},
     "output_type": "display_data"
    }
   ],
   "source": [
    "# find ids of people who participated in the follow-up study and had a positive STH status at the baseline\n",
    "onlydewormed_ids <- sample_data(ps_rarefied)[(sample_data(ps_rarefied)[['collection_timepoint']] == 'follow-up')&(sample_data(ps_rarefied)[['subject_eggcountAnySTHs_baseline']] > 0),]$host_subject_id\n",
    "# select only samples from subjects participated in the follow-up study\n",
    "ps_STHPositive <- subset_samples(ps_rarefied, host_subject_id %in% onlydewormed_ids)\n",
    "ps_rarefied_onlywithdewormed <- ps_STHPositive\n",
    "# check if the size of the table matches to our expectation\n",
    "length(onlydewormed_ids)*2 == nsamples(ps_rarefied_onlywithdewormed)"
   ]
  },
  {
   "cell_type": "code",
   "execution_count": 12,
   "id": "e0ac3965",
   "metadata": {
    "ExecuteTime": {
     "end_time": "2025-07-15T00:22:31.843124Z",
     "start_time": "2025-07-15T00:22:31.642Z"
    }
   },
   "outputs": [],
   "source": [
    "# select only samples from the baseline study\n",
    "ps_rarefied_onlywithdewormed_baseline <- subset_samples(ps_rarefied_onlywithdewormed, \n",
    "                                                       collection_timepoint == 'baseline')\n",
    "# retrieve ASV counts table\n",
    "otu_data_baseline <- otu_table(ps_rarefied_onlywithdewormed_baseline)\n",
    "# transform the counts table to a binary table: assign 1 to all counts larger than zero\n",
    "otu_data_baseline[otu_data_baseline > 0] <- 1\n",
    "# add two dummy rows with all taxa present (a row of 1s) and all taxa absent (a row of 0s)\n",
    "otu_data_baseline <- rbind(otu_data_baseline, \n",
    " t(data.frame(sample_present=rep(1, dim(otu_data_baseline)[2]), \n",
    "             sample_absent=rep(0, dim(otu_data_baseline)[2]))))"
   ]
  },
  {
   "cell_type": "code",
   "execution_count": 13,
   "id": "04ded01c",
   "metadata": {
    "ExecuteTime": {
     "end_time": "2025-07-15T00:22:35.672560Z",
     "start_time": "2025-07-15T00:22:35.507Z"
    }
   },
   "outputs": [],
   "source": [
    "# select only samples from the follow-up study\n",
    "ps_rarefied_onlywithdewormed_followup <- subset_samples(ps_rarefied_onlywithdewormed, \n",
    "                                                       collection_timepoint == 'follow-up')\n",
    "# retrieve ASV counts table\n",
    "otu_data_followup <- otu_table(ps_rarefied_onlywithdewormed_followup)\n",
    "# transform the counts table to a binary table: assign 1 to all counts larger than zero\n",
    "otu_data_followup[otu_data_followup > 0] <- 1\n",
    "# add two dummy rows with all taxa present (a row of 1s) and all taxa absent (a row of 0s)\n",
    "otu_data_followup <- rbind(otu_data_followup, \n",
    " t(data.frame(sample_present=rep(1, dim(otu_data_followup)[2]), \n",
    "              sample_absent=rep(0, dim(otu_data_followup)[2]))))"
   ]
  },
  {
   "cell_type": "code",
   "execution_count": 14,
   "id": "9ce7a1b6",
   "metadata": {
    "ExecuteTime": {
     "end_time": "2025-07-15T00:22:45.547537Z",
     "start_time": "2025-07-15T00:22:36.681Z"
    }
   },
   "outputs": [],
   "source": [
    "# count ASV odds of being present\n",
    "genera <- colnames(otu_data_followup)  # retrieve all ASV\n",
    "odds_STHPositive <- lapply(genera, function(taxa){ # for each ASV\n",
    "    # create a prescence/absence table\n",
    "    counts_df <-  rbind(table(otu_data_baseline[, taxa]), # count presence/absence of the given ASV in a baseline cohort\n",
    "                        table(otu_data_followup[, taxa])) # count presence/absence of the given ASV in a follow-up cohort\n",
    "    counts_df <- counts_df-1 # distract the counts of dummy variables\n",
    "    if (counts_df[1, 2]+counts_df[2, 2] > 3) { # do not consider low represented ASVs \n",
    "                                               # (ASVs present in a total of 3 or less samples)\n",
    "        # return a table with the information about ASV, odds of presence and amounts of prescence in each group\n",
    "        return(data.frame(genera=taxa, odds=counts_df[1, 2]/counts_df[2, 2], \n",
    "                          values=paste(counts_df[1, 2], counts_df[2, 2], collapse=';')))\n",
    "    }\n",
    "})\n",
    "odds_STHPositive <- do.call('rbind', odds_STHPositive) # concatenate rows\n",
    "odds_STHPositive$genera_name <- tax_data[odds_STHPositive$genera, 'name'] # join ASV names (family, genus, species)"
   ]
  },
  {
   "cell_type": "markdown",
   "id": "a3e19ed6",
   "metadata": {},
   "source": [
    "### Identify a threshold for significantly large odds"
   ]
  },
  {
   "cell_type": "code",
   "execution_count": 15,
   "id": "d3881685",
   "metadata": {
    "ExecuteTime": {
     "end_time": "2025-07-15T00:22:47.666464Z",
     "start_time": "2025-07-15T00:22:47.427Z"
    }
   },
   "outputs": [],
   "source": [
    "# combine odds for computed for postive and negative STH status (at the baseline) groups \n",
    "odds <- rbind(odds_STHNegative, odds_STHPositive)\n",
    "# calculate p-values\n",
    "odds$pvalue <- lapply(odds$odds, function(x){1-sum(x>odds$odds)/length(odds$odds)})\n",
    "# calculate an odds threshold for the significant p-value\n",
    "threshold <- min(odds[odds$pvalue < 0.05, 'odds'])"
   ]
  },
  {
   "cell_type": "code",
   "execution_count": 16,
   "id": "ff4a0a28",
   "metadata": {
    "ExecuteTime": {
     "end_time": "2025-07-15T00:22:52.034216Z",
     "start_time": "2025-07-15T00:22:51.129Z"
    }
   },
   "outputs": [
    {
     "name": "stderr",
     "output_type": "stream",
     "text": [
      "\u001b[1m\u001b[22m`stat_bin()` using `bins = 30`. Pick better value with `binwidth`.\n",
      "Warning message:\n",
      "“\u001b[1m\u001b[22mRemoved 58 rows containing non-finite outside the scale range (`stat_bin()`).”\n",
      "Warning message:\n",
      "“\u001b[1m\u001b[22mRemoved 2 rows containing missing values or values outside the scale range\n",
      "(`geom_bar()`).”\n",
      "\u001b[1m\u001b[22m`stat_bin()` using `bins = 30`. Pick better value with `binwidth`.\n",
      "Warning message:\n",
      "“\u001b[1m\u001b[22mRemoved 58 rows containing non-finite outside the scale range (`stat_bin()`).”\n",
      "Warning message:\n",
      "“\u001b[1m\u001b[22mRemoved 2 rows containing missing values or values outside the scale range\n",
      "(`geom_bar()`).”\n"
     ]
    },
    {
     "data": {
      "image/png": "[encoded data removed]",
      "text/plain": [
       "plot without title"
      ]
     },
     "metadata": {
      "image/png": {
       "height": 300,
       "width": 480
      }
     },
     "output_type": "display_data"
    }
   ],
   "source": [
    "# plot\n",
    "# set a figure size\n",
    "width = 8\n",
    "height = 5\n",
    "options(repr.plot.width = width, repr.plot.height = height)\n",
    "\n",
    "# plot\n",
    "p <- ggplot(odds, aes(x=odds)) + \n",
    "   geom_histogram(color=\"black\", fill=\"white\") +\n",
    "   geom_vline(xintercept = threshold, linetype=\"dashed\") +\n",
    "   annotate(\"text\", x=6, y=900, \n",
    "            label= paste0(\"p-value <  0.05:\\n threshold = \", round(threshold, 2)), size=7) + \n",
    "   xlim(0, 8.5) +\n",
    "   labs(x = \"Odds\", y = \"Counts\", title = 'ASV odds of depletion') +\n",
    "   theme_minimal() +\n",
    "   theme(axis.text=element_text(size=15),\n",
    "        axis.title=element_text(size=20, face=\"plain\"), \n",
    "        plot.title=element_text(size=22, face=\"bold\"),\n",
    "        plot.subtitle=element_text(size=22, face=\"plain\"),\n",
    "        strip.text = element_text(size = 25, hjust=0, color='#656565'), \n",
    "        axis.title.y = element_text(color='#656565', face='plain'),\n",
    "        axis.ticks.x=element_blank(),\n",
    "        axis.ticks.length.x.bottom=unit(0.5, \"lines\"),\n",
    "        text = element_text(size = 25, face=\"plain\"), \n",
    "        axis.line.y = element_line(color = \"darkgrey\", linewidth = 0.5), \n",
    "        axis.line.x.bottom = element_line(color = \"darkgrey\", linewidth = 0.5), \n",
    "        panel.border = element_rect(fill = NA, colour = \"grey70\", linewidth = rel(1)),\n",
    "        panel.spacing.x = unit(2, \"lines\")\n",
    "       ) \n",
    "\n",
    "k = 0.3\n",
    "ggsave(file=file.path('../../results/figures', 'supplementary_figure2', 'histogram.svg'), plot=p, \n",
    "       width=width*k, height=height*k, scaling = k)\n",
    "p"
   ]
  },
  {
   "cell_type": "markdown",
   "id": "93f4ed4d",
   "metadata": {},
   "source": [
    "### Identify ASVs that present significantly less frequent in the follow-up cohort than in the baseline cohort"
   ]
  },
  {
   "cell_type": "code",
   "execution_count": 17,
   "id": "0c926cfb",
   "metadata": {
    "ExecuteTime": {
     "end_time": "2025-07-15T00:22:55.107866Z",
     "start_time": "2025-07-15T00:22:54.985Z"
    }
   },
   "outputs": [],
   "source": [
    "# select such vanished ASVs among samples with STH negative status a the baseline\n",
    "odds_selected <- odds_STHNegative[odds_STHNegative$odds >= threshold, ]\n",
    "# calculate the amounts of vanished ASVs assigned to each Family\n",
    "df_bar <- data.frame(table(tax_data[odds_selected$genera, 'Family']))\n",
    "colnames(df_bar) <- c('Family', 'Counts') # rename columns\n",
    "# select only those ASVs which are represented by more than 1 vanished ASV\n",
    "df_bar_trimmed_STHNegative <- df_bar[df_bar$Counts > 1, ]\n",
    "# rename rows with numbers 1 to length(df_bar_trimmed_STHNegative)\n",
    "row.names(df_bar_trimmed_STHNegative) <- c(1:dim(df_bar_trimmed_STHNegative)[1])\n",
    "df_bar_trimmed_STHNegative$Family <- as.character(df_bar_trimmed_STHNegative$Family) # defactorize\n",
    "# assign the corresponding Phylum\n",
    "df_bar_trimmed_STHNegative$Phylum <- unlist(as.vector(lapply(df_bar_trimmed_STHNegative$Family, \n",
    "                                                 function(x) tax_data[tax_data$Family == x, 'Phylum'][1])))\n",
    "# create a new Family called 'Others', containing a amount of familied represented by one ASV\n",
    "df_bar_trimmed_STHNegative[dim(df_bar_trimmed_STHNegative)[1]+1, 'Counts'] <- sum(df_bar$Counts > 1)\n",
    "df_bar_trimmed_STHNegative[dim(df_bar_trimmed_STHNegative)[1], 'Family'] <- 'Others'\n",
    "df_bar_trimmed_STHNegative[dim(df_bar_trimmed_STHNegative)[1], 'Phylum'] <- 'Others'\n",
    "# assign an STH negative group to all counts in the data frame \n",
    "df_bar_trimmed_STHNegative$group <- 'STHNegative'"
   ]
  },
  {
   "cell_type": "code",
   "execution_count": 18,
   "id": "60c12187",
   "metadata": {
    "ExecuteTime": {
     "end_time": "2025-07-15T00:22:56.687779Z",
     "start_time": "2025-07-15T00:22:56.556Z"
    }
   },
   "outputs": [],
   "source": [
    "# select such vanished ASVs among samples with STH positive status a the baseline\n",
    "odds_selected <- odds_STHPositive[odds_STHPositive$odds >= threshold, ]\n",
    "# calculate the amounts of vanished ASVs assigned to each Family\n",
    "df_bar <- data.frame(table(tax_data[odds_selected$genera, 'Family']))\n",
    "colnames(df_bar) <- c('Family', 'Counts') # rename columns\n",
    "# select only those ASVs which are represented by more than 1 vanished ASV\n",
    "df_bar_trimmed_STHPositive <- df_bar[df_bar$Counts > 1, ]\n",
    "# rename rows with numbers 1 to length(df_bar_trimmed_STHNegative)\n",
    "row.names(df_bar_trimmed_STHPositive) <- c(1:dim(df_bar_trimmed_STHPositive)[1])\n",
    "df_bar_trimmed_STHPositive$Family <- as.character(df_bar_trimmed_STHPositive$Family) # defactorize\n",
    "# assign the corresponding Phylum\n",
    "df_bar_trimmed_STHPositive$Phylum <- unlist(as.vector(lapply(df_bar_trimmed_STHPositive$Family, \n",
    "                                                 function(x) tax_data[tax_data$Family == x, 'Phylum'][1])))\n",
    "# create a new Family called 'Others', containing a amount of familied represented by one ASV\n",
    "df_bar_trimmed_STHPositive[dim(df_bar_trimmed_STHPositive)[1]+1, 'Counts'] <- sum(df_bar$Counts > 1)\n",
    "df_bar_trimmed_STHPositive[dim(df_bar_trimmed_STHPositive)[1], 'Family'] <- 'Others'\n",
    "df_bar_trimmed_STHPositive[dim(df_bar_trimmed_STHPositive)[1], 'Phylum'] <- 'Others'\n",
    "# assign an STH positive group to all counts in the data frame \n",
    "df_bar_trimmed_STHPositive$group <- 'STHPositive'"
   ]
  },
  {
   "cell_type": "code",
   "execution_count": 19,
   "id": "e7f721ab",
   "metadata": {
    "ExecuteTime": {
     "end_time": "2025-07-15T00:22:58.052602Z",
     "start_time": "2025-07-15T00:22:57.754Z"
    }
   },
   "outputs": [
    {
     "data": {
      "text/html": [
       "<table class=\"dataframe\">\n",
       "<caption>A data.frame: 17 × 5</caption>\n",
       "<thead>\n",
       "\t<tr><th></th><th scope=col>Family</th><th scope=col>Counts</th><th scope=col>Phylum</th><th scope=col>group</th><th scope=col>order</th></tr>\n",
       "\t<tr><th></th><th scope=col>&lt;fct&gt;</th><th scope=col>&lt;int&gt;</th><th scope=col>&lt;chr&gt;</th><th scope=col>&lt;chr&gt;</th><th scope=col>&lt;dbl&gt;</th></tr>\n",
       "</thead>\n",
       "<tbody>\n",
       "\t<tr><th scope=row>1</th><td>Bacteroidaceae               </td><td> 3</td><td>Bacteroidetes</td><td>STHNegative</td><td> 1</td></tr>\n",
       "\t<tr><th scope=row>7</th><td>Prevotellaceae               </td><td> 6</td><td>Bacteroidetes</td><td>STHNegative</td><td> 2</td></tr>\n",
       "\t<tr><th scope=row>10</th><td>Tannerellaceae               </td><td> 2</td><td>Bacteroidetes</td><td>STHNegative</td><td> 5</td></tr>\n",
       "\t<tr><th scope=row>12</th><td>Bacteroidaceae               </td><td> 6</td><td>Bacteroidetes</td><td>STHPositive</td><td> 9</td></tr>\n",
       "\t<tr><th scope=row>15</th><td>Marinifilaceae               </td><td> 3</td><td>Bacteroidetes</td><td>STHPositive</td><td>17</td></tr>\n",
       "\t<tr><th scope=row>16</th><td>Prevotellaceae               </td><td> 4</td><td>Bacteroidetes</td><td>STHPositive</td><td>11</td></tr>\n",
       "\t<tr><th scope=row>2</th><td>Clostridiaceae_1             </td><td> 2</td><td>Firmicutes   </td><td>STHNegative</td><td> 7</td></tr>\n",
       "\t<tr><th scope=row>3</th><td>Clostridiales_vadinBB60_group</td><td> 9</td><td>Firmicutes   </td><td>STHNegative</td><td>10</td></tr>\n",
       "\t<tr><th scope=row>4</th><td>Erysipelotrichaceae          </td><td> 2</td><td>Firmicutes   </td><td>STHNegative</td><td>12</td></tr>\n",
       "\t<tr><th scope=row>5</th><td>Family_XIII                  </td><td> 3</td><td>Firmicutes   </td><td>STHNegative</td><td>15</td></tr>\n",
       "\t<tr><th scope=row>6</th><td>Lachnospiraceae              </td><td>15</td><td>Firmicutes   </td><td>STHNegative</td><td>16</td></tr>\n",
       "\t<tr><th scope=row>9</th><td>Ruminococcaceae              </td><td>35</td><td>Firmicutes   </td><td>STHNegative</td><td> 4</td></tr>\n",
       "\t<tr><th scope=row>13</th><td>Clostridiales_vadinBB60_group</td><td> 3</td><td>Firmicutes   </td><td>STHPositive</td><td>13</td></tr>\n",
       "\t<tr><th scope=row>14</th><td>Lachnospiraceae              </td><td> 6</td><td>Firmicutes   </td><td>STHPositive</td><td>14</td></tr>\n",
       "\t<tr><th scope=row>17</th><td>Ruminococcaceae              </td><td>17</td><td>Firmicutes   </td><td>STHPositive</td><td>18</td></tr>\n",
       "\t<tr><th scope=row>11</th><td>Others                       </td><td>10</td><td>Others       </td><td>STHNegative</td><td> 6</td></tr>\n",
       "\t<tr><th scope=row>18</th><td>Others                       </td><td> 6</td><td>Others       </td><td>STHPositive</td><td>19</td></tr>\n",
       "</tbody>\n",
       "</table>\n"
      ],
      "text/latex": [
       "A data.frame: 17 × 5\n",
       "\\begin{tabular}{r|lllll}\n",
       "  & Family & Counts & Phylum & group & order\\\\\n",
       "  & <fct> & <int> & <chr> & <chr> & <dbl>\\\\\n",
       "\\hline\n",
       "\t1 & Bacteroidaceae                &  3 & Bacteroidetes & STHNegative &  1\\\\\n",
       "\t7 & Prevotellaceae                &  6 & Bacteroidetes & STHNegative &  2\\\\\n",
       "\t10 & Tannerellaceae                &  2 & Bacteroidetes & STHNegative &  5\\\\\n",
       "\t12 & Bacteroidaceae                &  6 & Bacteroidetes & STHPositive &  9\\\\\n",
       "\t15 & Marinifilaceae                &  3 & Bacteroidetes & STHPositive & 17\\\\\n",
       "\t16 & Prevotellaceae                &  4 & Bacteroidetes & STHPositive & 11\\\\\n",
       "\t2 & Clostridiaceae\\_1              &  2 & Firmicutes    & STHNegative &  7\\\\\n",
       "\t3 & Clostridiales\\_vadinBB60\\_group &  9 & Firmicutes    & STHNegative & 10\\\\\n",
       "\t4 & Erysipelotrichaceae           &  2 & Firmicutes    & STHNegative & 12\\\\\n",
       "\t5 & Family\\_XIII                   &  3 & Firmicutes    & STHNegative & 15\\\\\n",
       "\t6 & Lachnospiraceae               & 15 & Firmicutes    & STHNegative & 16\\\\\n",
       "\t9 & Ruminococcaceae               & 35 & Firmicutes    & STHNegative &  4\\\\\n",
       "\t13 & Clostridiales\\_vadinBB60\\_group &  3 & Firmicutes    & STHPositive & 13\\\\\n",
       "\t14 & Lachnospiraceae               &  6 & Firmicutes    & STHPositive & 14\\\\\n",
       "\t17 & Ruminococcaceae               & 17 & Firmicutes    & STHPositive & 18\\\\\n",
       "\t11 & Others                        & 10 & Others        & STHNegative &  6\\\\\n",
       "\t18 & Others                        &  6 & Others        & STHPositive & 19\\\\\n",
       "\\end{tabular}\n"
      ],
      "text/markdown": [
       "\n",
       "A data.frame: 17 × 5\n",
       "\n",
       "| <!--/--> | Family &lt;fct&gt; | Counts &lt;int&gt; | Phylum &lt;chr&gt; | group &lt;chr&gt; | order &lt;dbl&gt; |\n",
       "|---|---|---|---|---|---|\n",
       "| 1 | Bacteroidaceae                |  3 | Bacteroidetes | STHNegative |  1 |\n",
       "| 7 | Prevotellaceae                |  6 | Bacteroidetes | STHNegative |  2 |\n",
       "| 10 | Tannerellaceae                |  2 | Bacteroidetes | STHNegative |  5 |\n",
       "| 12 | Bacteroidaceae                |  6 | Bacteroidetes | STHPositive |  9 |\n",
       "| 15 | Marinifilaceae                |  3 | Bacteroidetes | STHPositive | 17 |\n",
       "| 16 | Prevotellaceae                |  4 | Bacteroidetes | STHPositive | 11 |\n",
       "| 2 | Clostridiaceae_1              |  2 | Firmicutes    | STHNegative |  7 |\n",
       "| 3 | Clostridiales_vadinBB60_group |  9 | Firmicutes    | STHNegative | 10 |\n",
       "| 4 | Erysipelotrichaceae           |  2 | Firmicutes    | STHNegative | 12 |\n",
       "| 5 | Family_XIII                   |  3 | Firmicutes    | STHNegative | 15 |\n",
       "| 6 | Lachnospiraceae               | 15 | Firmicutes    | STHNegative | 16 |\n",
       "| 9 | Ruminococcaceae               | 35 | Firmicutes    | STHNegative |  4 |\n",
       "| 13 | Clostridiales_vadinBB60_group |  3 | Firmicutes    | STHPositive | 13 |\n",
       "| 14 | Lachnospiraceae               |  6 | Firmicutes    | STHPositive | 14 |\n",
       "| 17 | Ruminococcaceae               | 17 | Firmicutes    | STHPositive | 18 |\n",
       "| 11 | Others                        | 10 | Others        | STHNegative |  6 |\n",
       "| 18 | Others                        |  6 | Others        | STHPositive | 19 |\n",
       "\n"
      ],
      "text/plain": [
       "   Family                        Counts Phylum        group       order\n",
       "1  Bacteroidaceae                 3     Bacteroidetes STHNegative  1   \n",
       "7  Prevotellaceae                 6     Bacteroidetes STHNegative  2   \n",
       "10 Tannerellaceae                 2     Bacteroidetes STHNegative  5   \n",
       "12 Bacteroidaceae                 6     Bacteroidetes STHPositive  9   \n",
       "15 Marinifilaceae                 3     Bacteroidetes STHPositive 17   \n",
       "16 Prevotellaceae                 4     Bacteroidetes STHPositive 11   \n",
       "2  Clostridiaceae_1               2     Firmicutes    STHNegative  7   \n",
       "3  Clostridiales_vadinBB60_group  9     Firmicutes    STHNegative 10   \n",
       "4  Erysipelotrichaceae            2     Firmicutes    STHNegative 12   \n",
       "5  Family_XIII                    3     Firmicutes    STHNegative 15   \n",
       "6  Lachnospiraceae               15     Firmicutes    STHNegative 16   \n",
       "9  Ruminococcaceae               35     Firmicutes    STHNegative  4   \n",
       "13 Clostridiales_vadinBB60_group  3     Firmicutes    STHPositive 13   \n",
       "14 Lachnospiraceae                6     Firmicutes    STHPositive 14   \n",
       "17 Ruminococcaceae               17     Firmicutes    STHPositive 18   \n",
       "11 Others                        10     Others        STHNegative  6   \n",
       "18 Others                         6     Others        STHPositive 19   "
      ]
     },
     "metadata": {},
     "output_type": "display_data"
    }
   ],
   "source": [
    "# combine Family counts into one table\n",
    "df_bar_trimmed <- rbind(df_bar_trimmed_STHNegative, df_bar_trimmed_STHPositive)\n",
    "# create a column of a counts order by Phylum\n",
    "df_bar_trimmed$order <- order(df_bar_trimmed$Phylum)\n",
    "# eliminate Phylum only present in one group\n",
    "df_bar_trimmed[dim(df_bar_trimmed)[1], 'order'] <- max(df_bar_trimmed$order) + 1\n",
    "# # order a data frame\n",
    "df_bar_trimmed <- df_bar_trimmed[df_bar_trimmed$order, ]\n",
    "# # eliminate all NA families\n",
    "df_bar_trimmed <- df_bar_trimmed[!is.na(df_bar_trimmed$Family), ]\n",
    "# # factorize a family column\n",
    "df_bar_trimmed$Family <- factor(df_bar_trimmed$Family, levels=unique(df_bar_trimmed$Family))\n",
    "df_bar_trimmed"
   ]
  },
  {
   "cell_type": "code",
   "execution_count": 20,
   "id": "ce4e1c03",
   "metadata": {
    "ExecuteTime": {
     "end_time": "2025-07-15T00:22:59.303358Z",
     "start_time": "2025-07-15T00:22:59.061Z"
    }
   },
   "outputs": [],
   "source": [
    "# To create a \"stacked\" barplot add the total Phylum counts to the first Family counts of the next Phylum\n",
    "# create row names\n",
    "row.names(df_bar_trimmed) <- paste(df_bar_trimmed$Family, df_bar_trimmed$group, sep=';')\n",
    "# 1. add a total counts of all Phylums except 'Others' to the Others'coutns\n",
    "#    to ensure them being on top of the plot\n",
    "# select all rows but Others phylum\n",
    "add_counts <- dplyr::filter(df_bar_trimmed, df_bar_trimmed$Phylum != \"Others\")\n",
    "# calculate the total counts of non-Others Phylum\n",
    "add_counts <- aggregate(Counts ~ group, add_counts, sum)\n",
    "# ensure an order by group\n",
    "add_counts <- add_counts[order(add_counts$group), ]\n",
    "# add counts to the Others phylum\n",
    "df_bar_trimmed[c('Others;STHNegative', 'Others;STHPositive'), 'Counts'] <- df_bar_trimmed[c('Others;STHNegative', 'Others;STHPositive'), 'Counts']+add_counts$Counts\n",
    "\n",
    "# add Firmicutes Phylum counts to the first Families of the Bacteroides family \n",
    "# in STHNegative and STHPositive groups\n",
    "# select Firmicutes Phylum counts\n",
    "add_counts <- dplyr::filter(df_bar_trimmed, df_bar_trimmed$Phylum == \"Firmicutes\")\n",
    "# calculate the total counts of Firmicutes Phylum\n",
    "add_counts <- aggregate(Counts ~ group, add_counts, sum)\n",
    "# ensure an order by group\n",
    "add_counts <- add_counts[order(add_counts$group), ]\n",
    "# add counts to the first Families of the Bacteroides family \n",
    "df_bar_trimmed[c('Tannerellaceae;STHNegative', 'Prevotellaceae;STHPositive'), 'Counts'] <- df_bar_trimmed[c('Tannerellaceae;STHNegative', 'Prevotellaceae;STHPositive'), 'Counts']+add_counts$Counts"
   ]
  },
  {
   "cell_type": "code",
   "execution_count": 21,
   "id": "6ddc0b84",
   "metadata": {
    "ExecuteTime": {
     "end_time": "2025-07-15T00:23:01.714953Z",
     "start_time": "2025-07-15T00:23:00.666Z"
    },
    "scrolled": false
   },
   "outputs": [
    {
     "data": {
      "image/png": "[encoded data removed]",
      "text/plain": [
       "plot without title"
      ]
     },
     "metadata": {
      "image/png": {
       "height": 300,
       "width": 480
      }
     },
     "output_type": "display_data"
    }
   ],
   "source": [
    "# plot\n",
    "# set a plot size\n",
    "width = 8\n",
    "height = 5\n",
    "options(repr.plot.width = width, repr.plot.height = height)\n",
    "\n",
    "# plot manually stacked barplots\n",
    "p <- ggplot(data=df_bar_trimmed) +\n",
    "      geom_bar(data = ~ dplyr::filter(., Phylum == \"Others\") %>% dplyr::rename(Others = Family), \n",
    "              mapping = aes(x=group, y=Counts, fill=Others), \n",
    "              stat=\"identity\") +\n",
    "      scale_fill_manual(values=c('#e5e5e5', '#e5e5e5'))+\n",
    "      new_scale_fill() +\n",
    "      geom_bar(data = ~ dplyr::filter(., Phylum == \"Bacteroidetes\") %>% dplyr::rename(Bacteroidetes = Family),  \n",
    "              mapping = aes(x=group, y=Counts, fill=Bacteroidetes), \n",
    "              stat=\"identity\") +\n",
    "      scale_fill_manual(values=rev(c('#dbb99d', '#d19564', '#b47e54', '#773501')))+\n",
    "      new_scale_fill() +\n",
    "      geom_bar(data = ~ dplyr::filter(., Phylum == \"Firmicutes\") %>% dplyr::rename(Firmicutes = Family),  \n",
    "              mapping = aes(x=group, y=Counts, fill=Firmicutes), \n",
    "              stat=\"identity\") +\n",
    "      scale_fill_manual(values=rev(c('#d8bddc',  '#ac96d2', '#9071aa', '#6d4b88', '#5c396f', '#3e2248')))+\n",
    "      new_scale_fill() +\n",
    "      scale_y_continuous(limits = c(0, 90), expand = c(0,0)) +\n",
    "      theme_minimal() + \n",
    "      theme(axis.text=element_text(size=15),\n",
    "            axis.title=element_text(size=25, face=\"plain\"), \n",
    "            plot.title=element_text(size=25, face=\"bold\"),\n",
    "            plot.subtitle=element_text(size=22, face=\"plain\"),\n",
    "            strip.text = element_text(size = 25, hjust=0, color='#656565'), \n",
    "            axis.text.x.bottom = element_blank(),\n",
    "            axis.text.x = element_blank(),\n",
    "            axis.title.x = element_blank(),\n",
    "            axis.title.y = element_text(color='#656565', face='plain'),\n",
    "            axis.ticks.x=element_blank(), \n",
    "            axis.ticks.length.x.bottom=unit(0.5, \"lines\"),\n",
    "            text = element_text(size = 25, face=\"plain\"), \n",
    "            axis.line.y = element_line(color = \"darkgrey\", linewidth = 0.5), \n",
    "            axis.line.x.bottom = element_line(color = \"darkgrey\", linewidth = 0.5), \n",
    "            panel.border = element_rect(fill = NA, colour = \"grey70\", linewidth = rel(1)),\n",
    "            panel.spacing.x = unit(2, \"lines\")\n",
    "           ) \n",
    "k = 0.3\n",
    "ggsave(file=file.path('../../results/figures', 'figure3', 'stacked_plot.svg'), plot=p, \n",
    "       width=width*k, height=height*k, scaling = k)\n",
    "p"
   ]
  }
 ],
 "metadata": {
  "kernelspec": {
   "display_name": "helminths",
   "language": "R",
   "name": "helminths"
  },
  "language_info": {
   "codemirror_mode": "r",
   "file_extension": ".r",
   "mimetype": "text/x-r-source",
   "name": "R",
   "pygments_lexer": "r",
   "version": "4.3.3"
  },
  "varInspector": {
   "cols": {
    "lenName": 16,
    "lenType": 16,
    "lenVar": 40
   },
   "kernels_config": {
    "python": {
     "delete_cmd_postfix": "",
     "delete_cmd_prefix": "del ",
     "library": "var_list.py",
     "varRefreshCmd": "print(var_dic_list())"
    },
    "r": {
     "delete_cmd_postfix": ") ",
     "delete_cmd_prefix": "rm(",
     "library": "var_list.r",
     "varRefreshCmd": "cat(var_dic_list()) "
    }
   },
   "types_to_exclude": [
    "module",
    "function",
    "builtin_function_or_method",
    "instance",
    "_Feature"
   ],
   "window_display": false
  }
 },
 "nbformat": 4,
 "nbformat_minor": 5
}
